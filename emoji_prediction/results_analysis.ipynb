{
 "cells": [
  {
   "cell_type": "code",
   "execution_count": 1,
   "id": "initial_id",
   "metadata": {
    "collapsed": true,
    "ExecuteTime": {
     "end_time": "2023-12-18T11:57:35.925026Z",
     "start_time": "2023-12-18T11:57:35.840538Z"
    }
   },
   "outputs": [],
   "source": [
    "from pickle import load\n",
    "from numpy import mean\n",
    "from numpy import std"
   ]
  },
  {
   "cell_type": "code",
   "execution_count": 2,
   "outputs": [
    {
     "name": "stdout",
     "output_type": "stream",
     "text": [
      "3 models evaluated\n"
     ]
    }
   ],
   "source": [
    "results = load(open('results.pkl', 'rb'))\n",
    "print('%d models evaluated' % len(results))\n",
    "rearranged_results = {}\n",
    "for model_name, scores in results.items():\n",
    "    rearranged_results[model_name] = {}\n",
    "    for metric_dict in scores:\n",
    "        for metric, value in metric_dict.items():\n",
    "            if metric not in rearranged_results[model_name]:\n",
    "                rearranged_results[model_name][metric] = []\n",
    "            rearranged_results[model_name][metric].append(value)\n",
    "results = rearranged_results"
   ],
   "metadata": {
    "collapsed": false,
    "ExecuteTime": {
     "end_time": "2023-12-18T11:57:35.935393Z",
     "start_time": "2023-12-18T11:57:35.927402Z"
    }
   },
   "id": "7fd9a12d224d3b15"
  },
  {
   "cell_type": "code",
   "execution_count": 3,
   "outputs": [
    {
     "data": {
      "text/plain": "{'baseline': {'weighted_accuracy': [0.17707820954254797,\n   0.17707820954254797,\n   0.17707820954254797,\n   0.17695523856369896,\n   0.17695523856369896],\n  'weighted_f1_score': [0.05327885953641226,\n   0.05327885953641226,\n   0.05327885953641226,\n   0.053210445782710857,\n   0.053210445782710857],\n  'confunsion_matrix': [array([[   0,  193,    0, ...,    0,    0,    0],\n          [   0, 1440,    0, ...,    0,    0,    0],\n          [   0,  107,    0, ...,    0,    0,    0],\n          ...,\n          [   0,   79,    0, ...,    0,    0,    0],\n          [   0,    2,    0, ...,    0,    0,    0],\n          [   0,    3,    0, ...,    0,    0,    0]]),\n   array([[   0,  193,    0, ...,    0,    0,    0],\n          [   0, 1440,    0, ...,    0,    0,    0],\n          [   0,  107,    0, ...,    0,    0,    0],\n          ...,\n          [   0,   80,    0, ...,    0,    0,    0],\n          [   0,    2,    0, ...,    0,    0,    0],\n          [   0,    3,    0, ...,    0,    0,    0]]),\n   array([[   0,  192,    0, ...,    0,    0,    0],\n          [   0, 1440,    0, ...,    0,    0,    0],\n          [   0,  108,    0, ...,    0,    0,    0],\n          ...,\n          [   0,   80,    0, ...,    0,    0,    0],\n          [   0,    2,    0, ...,    0,    0,    0],\n          [   0,    3,    0, ...,    0,    0,    0]]),\n   array([[   0,  193,    0, ...,    0,    0,    0],\n          [   0, 1439,    0, ...,    0,    0,    0],\n          [   0,  108,    0, ...,    0,    0,    0],\n          ...,\n          [   0,   80,    0, ...,    0,    0,    0],\n          [   0,    2,    0, ...,    0,    0,    0],\n          [   0,    4,    0, ...,    0,    0,    0]]),\n   array([[   0,  193,    0, ...,    0,    0,    0],\n          [   0, 1439,    0, ...,    0,    0,    0],\n          [   0,  108,    0, ...,    0,    0,    0],\n          ...,\n          [   0,   80,    0, ...,    0,    0,    0],\n          [   0,    3,    0, ...,    0,    0,    0],\n          [   0,    3,    0, ...,    0,    0,    0]])]},\n 'one_gram': {'weighted_accuracy': [0.22589768814559763,\n   0.22257747171667486,\n   0.21581406787998034,\n   0.22860304968027545,\n   0.21839645843580915],\n  'weighted_f1_score': [0.17596002904612776,\n   0.17215670647715803,\n   0.16747404436464727,\n   0.17933188919489726,\n   0.17028335662554214],\n  'confunsion_matrix': [array([[  16,  112,    0, ...,    0,    0,    0],\n          [  27, 1037,    9, ...,    1,    0,    0],\n          [   1,   37,   25, ...,    2,    0,    0],\n          ...,\n          [   1,   21,    0, ...,   22,    0,    0],\n          [   0,    0,    0, ...,    0,    2,    0],\n          [   0,    1,    0, ...,    0,    2,    0]]),\n   array([[  15,  113,    1, ...,    1,    0,    0],\n          [  18, 1033,    4, ...,    2,    0,    0],\n          [   0,   34,   29, ...,    0,    0,    0],\n          ...,\n          [   2,   24,    0, ...,   17,    0,    0],\n          [   0,    1,    0, ...,    0,    0,    0],\n          [   0,    1,    0, ...,    0,    0,    0]]),\n   array([[  20,  105,    1, ...,    1,    0,    0],\n          [  28, 1002,   17, ...,    1,    0,    0],\n          [   0,   34,   29, ...,    0,    0,    0],\n          ...,\n          [   1,   28,    2, ...,   14,    0,    0],\n          [   0,    2,    0, ...,    0,    0,    0],\n          [   0,    3,    0, ...,    0,    0,    0]]),\n   array([[  13,  108,    2, ...,    1,    0,    0],\n          [  18, 1020,   14, ...,    6,    0,    0],\n          [   0,   40,   27, ...,    0,    0,    0],\n          ...,\n          [   0,   39,    0, ...,   16,    0,    0],\n          [   0,    0,    0, ...,    0,    1,    1],\n          [   0,    4,    0, ...,    0,    0,    0]]),\n   array([[ 20, 110,   0, ...,   0,   0,   0],\n          [ 22, 985,   5, ...,   1,   0,   0],\n          [  0,  36,  23, ...,   1,   0,   0],\n          ...,\n          [  2,  32,   1, ...,  14,   0,   0],\n          [  0,   2,   0, ...,   0,   0,   1],\n          [  0,   0,   0, ...,   0,   2,   1]])]},\n 'four_gram': {'weighted_accuracy': [0.26549434333497296,\n   0.2673389080177078,\n   0.26155927201180523,\n   0.26426463354648305,\n   0.264879488440728],\n  'weighted_f1_score': [0.22488703469988547,\n   0.22485624209127045,\n   0.2191651890410497,\n   0.22138665266061028,\n   0.22330197659052933],\n  'confunsion_matrix': [array([[  23,  135,    0, ...,    0,    0,    0],\n          [  13, 1267,    2, ...,    0,    0,    0],\n          [   1,   77,   22, ...,    0,    0,    0],\n          ...,\n          [   0,   62,    0, ...,   15,    0,    0],\n          [   0,    2,    0, ...,    0,    0,    0],\n          [   0,    2,    0, ...,    0,    1,    0]]),\n   array([[  32,  124,    0, ...,    0,    0,    0],\n          [  21, 1288,    1, ...,    0,    0,    0],\n          [   0,   75,   24, ...,    0,    0,    0],\n          ...,\n          [   0,   63,    0, ...,   10,    0,    0],\n          [   0,    2,    0, ...,    0,    0,    0],\n          [   0,    3,    0, ...,    0,    0,    0]]),\n   array([[  35,  127,    1, ...,    0,    0,    0],\n          [  16, 1260,    1, ...,    0,    0,    0],\n          [   0,   76,   21, ...,    0,    0,    0],\n          ...,\n          [   0,   67,    0, ...,   11,    0,    0],\n          [   0,    2,    0, ...,    0,    0,    0],\n          [   0,    3,    0, ...,    0,    0,    0]]),\n   array([[  28,  148,    0, ...,    0,    0,    0],\n          [  10, 1275,    4, ...,    0,    0,    0],\n          [   0,   81,   20, ...,    0,    0,    0],\n          ...,\n          [   0,   69,    0, ...,    7,    0,    0],\n          [   0,    2,    0, ...,    0,    0,    0],\n          [   0,    4,    0, ...,    0,    0,    0]]),\n   array([[  24,  141,    0, ...,    0,    0,    0],\n          [  15, 1278,    3, ...,    0,    0,    0],\n          [   0,   83,   21, ...,    0,    0,    0],\n          ...,\n          [   0,   67,    0, ...,   10,    0,    0],\n          [   0,    2,    0, ...,    0,    0,    1],\n          [   0,    2,    0, ...,    0,    0,    1]])]}}"
     },
     "execution_count": 3,
     "metadata": {},
     "output_type": "execute_result"
    }
   ],
   "source": [
    "results"
   ],
   "metadata": {
    "collapsed": false,
    "ExecuteTime": {
     "end_time": "2023-12-18T11:57:35.949390Z",
     "start_time": "2023-12-18T11:57:35.938834Z"
    }
   },
   "id": "75276e371b373337"
  },
  {
   "cell_type": "code",
   "execution_count": 8,
   "outputs": [
    {
     "name": "stdout",
     "output_type": "stream",
     "text": [
      "baseline\n",
      "Mean weighted_accuracy: 17.7\n",
      "Std weighted_accuracy: 0.0\n",
      "Mean weighted_f1_score: 5.3\n",
      "Std weighted_f1_score: 0.0\n",
      "one_gram\n",
      "Mean weighted_accuracy: 22.2\n",
      "Std weighted_accuracy: 0.5\n",
      "Mean weighted_f1_score: 17.3\n",
      "Std weighted_f1_score: 0.4\n",
      "four_gram\n",
      "Mean weighted_accuracy: 26.5\n",
      "Std weighted_accuracy: 0.2\n",
      "Mean weighted_f1_score: 22.3\n",
      "Std weighted_f1_score: 0.2\n"
     ]
    }
   ],
   "source": [
    "metrics = ['weighted_accuracy', 'weighted_f1_score']\n",
    "for model_name, scores in results.items():\n",
    "    print(model_name)\n",
    "    for metric in metrics:\n",
    "        print(f\"Mean {metric}: {mean(scores[metric], axis=0)*100:.1f}\")\n",
    "        print(f\"Std {metric}: {std(scores[metric])*100:.1f}\")"
   ],
   "metadata": {
    "collapsed": false,
    "ExecuteTime": {
     "end_time": "2023-12-18T12:26:25.888331Z",
     "start_time": "2023-12-18T12:26:25.882487Z"
    }
   },
   "id": "4ded4967e9054ee6"
  },
  {
   "cell_type": "code",
   "execution_count": 16,
   "outputs": [
    {
     "name": "stdout",
     "output_type": "stream",
     "text": [
      "[[  23  135    0 ...    0    0    0]\n",
      " [  13 1267    2 ...    0    0    0]\n",
      " [   1   77   22 ...    0    0    0]\n",
      " ...\n",
      " [   0   62    0 ...   15    0    0]\n",
      " [   0    2    0 ...    0    0    0]\n",
      " [   0    2    0 ...    0    1    0]]\n"
     ]
    },
    {
     "ename": "AttributeError",
     "evalue": "'NoneType' object has no attribute 'shape'",
     "output_type": "error",
     "traceback": [
      "\u001B[0;31m---------------------------------------------------------------------------\u001B[0m",
      "\u001B[0;31mAttributeError\u001B[0m                            Traceback (most recent call last)",
      "Cell \u001B[0;32mIn[16], line 3\u001B[0m\n\u001B[1;32m      1\u001B[0m \u001B[38;5;28;01mfrom\u001B[39;00m \u001B[38;5;21;01msklearn\u001B[39;00m\u001B[38;5;21;01m.\u001B[39;00m\u001B[38;5;21;01mmetrics\u001B[39;00m \u001B[38;5;28;01mimport\u001B[39;00m ConfusionMatrixDisplay\n\u001B[1;32m      2\u001B[0m disp \u001B[38;5;241m=\u001B[39m ConfusionMatrixDisplay(\u001B[38;5;28mprint\u001B[39m(results[\u001B[38;5;124m\"\u001B[39m\u001B[38;5;124mfour_gram\u001B[39m\u001B[38;5;124m\"\u001B[39m][\u001B[38;5;124m\"\u001B[39m\u001B[38;5;124mconfunsion_matrix\u001B[39m\u001B[38;5;124m\"\u001B[39m][\u001B[38;5;241m0\u001B[39m]))\n\u001B[0;32m----> 3\u001B[0m \u001B[43mdisp\u001B[49m\u001B[38;5;241;43m.\u001B[39;49m\u001B[43mplot\u001B[49m\u001B[43m(\u001B[49m\u001B[43m)\u001B[49m\n\u001B[1;32m      4\u001B[0m disp\u001B[38;5;241m.\u001B[39mshow()\n",
      "File \u001B[0;32m~/anaconda3/envs/emoji-prediction/lib/python3.10/site-packages/sklearn/metrics/_plot/confusion_matrix.py:141\u001B[0m, in \u001B[0;36mConfusionMatrixDisplay.plot\u001B[0;34m(self, include_values, cmap, xticks_rotation, values_format, ax, colorbar, im_kw, text_kw)\u001B[0m\n\u001B[1;32m    138\u001B[0m     fig \u001B[38;5;241m=\u001B[39m ax\u001B[38;5;241m.\u001B[39mfigure\n\u001B[1;32m    140\u001B[0m cm \u001B[38;5;241m=\u001B[39m \u001B[38;5;28mself\u001B[39m\u001B[38;5;241m.\u001B[39mconfusion_matrix\n\u001B[0;32m--> 141\u001B[0m n_classes \u001B[38;5;241m=\u001B[39m \u001B[43mcm\u001B[49m\u001B[38;5;241;43m.\u001B[39;49m\u001B[43mshape\u001B[49m[\u001B[38;5;241m0\u001B[39m]\n\u001B[1;32m    143\u001B[0m default_im_kw \u001B[38;5;241m=\u001B[39m \u001B[38;5;28mdict\u001B[39m(interpolation\u001B[38;5;241m=\u001B[39m\u001B[38;5;124m\"\u001B[39m\u001B[38;5;124mnearest\u001B[39m\u001B[38;5;124m\"\u001B[39m, cmap\u001B[38;5;241m=\u001B[39mcmap)\n\u001B[1;32m    144\u001B[0m im_kw \u001B[38;5;241m=\u001B[39m im_kw \u001B[38;5;129;01mor\u001B[39;00m {}\n",
      "\u001B[0;31mAttributeError\u001B[0m: 'NoneType' object has no attribute 'shape'"
     ]
    },
    {
     "data": {
      "text/plain": "<Figure size 640x480 with 1 Axes>",
      "image/png": "[encoded data removed]"
     },
     "metadata": {},
     "output_type": "display_data"
    }
   ],
   "source": [
    "from sklearn.metrics import ConfusionMatrixDisplay\n",
    "disp = ConfusionMatrixDisplay(print(results[\"four_gram\"][\"confunsion_matrix\"][0]))\n",
    "disp.plot()\n",
    "disp.show()"
   ],
   "metadata": {
    "collapsed": false,
    "ExecuteTime": {
     "end_time": "2023-12-18T14:49:27.909652Z",
     "start_time": "2023-12-18T14:49:27.844063Z"
    }
   },
   "id": "e5c0e0a94bc8ec37"
  },
  {
   "cell_type": "code",
   "execution_count": null,
   "outputs": [],
   "source": [],
   "metadata": {
    "collapsed": false
   },
   "id": "dc9efb6a0ea8796d"
  }
 ],
 "metadata": {
  "kernelspec": {
   "display_name": "Python 3",
   "language": "python",
   "name": "python3"
  },
  "language_info": {
   "codemirror_mode": {
    "name": "ipython",
    "version": 2
   },
   "file_extension": ".py",
   "mimetype": "text/x-python",
   "name": "python",
   "nbconvert_exporter": "python",
   "pygments_lexer": "ipython2",
   "version": "2.7.6"
  }
 },
 "nbformat": 4,
 "nbformat_minor": 5
}
