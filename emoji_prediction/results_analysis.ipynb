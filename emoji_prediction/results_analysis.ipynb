{
 "cells": [
  {
   "cell_type": "code",
   "execution_count": 1,
   "id": "initial_id",
   "metadata": {
    "collapsed": true,
    "ExecuteTime": {
     "end_time": "2024-01-22T15:20:21.120964Z",
     "start_time": "2024-01-22T15:20:20.632891Z"
    }
   },
   "outputs": [],
   "source": [
    "from pickle import load\n",
    "from numpy import mean\n",
    "from numpy import std"
   ]
  },
  {
   "cell_type": "code",
   "execution_count": 2,
   "outputs": [
    {
     "name": "stdout",
     "output_type": "stream",
     "text": [
      "4 models evaluated\n"
     ]
    }
   ],
   "source": [
    "results = load(open('results.pkl', 'rb'))\n",
    "print('%d models evaluated' % len(results))\n",
    "rearranged_results = {}\n",
    "for model_name, scores in results.items():\n",
    "    rearranged_results[model_name] = {}\n",
    "    for metric_dict in scores:\n",
    "        for metric, value in metric_dict.items():\n",
    "            if metric not in rearranged_results[model_name]:\n",
    "                rearranged_results[model_name][metric] = []\n",
    "            rearranged_results[model_name][metric].append(value)\n",
    "results = rearranged_results"
   ],
   "metadata": {
    "collapsed": false,
    "ExecuteTime": {
     "end_time": "2024-01-22T15:20:21.126024Z",
     "start_time": "2024-01-22T15:20:21.121226Z"
    }
   },
   "id": "7fd9a12d224d3b15"
  },
  {
   "cell_type": "code",
   "execution_count": 3,
   "outputs": [
    {
     "data": {
      "text/plain": "{'Quadrant Discriminant Analysis': {'weighted_accuracy': [0.11124372477606063,\n   0.111342159661384,\n   0.1113189206482017,\n   0.1106052589484564,\n   0.11112204845516852],\n  'weighted_f1_score': [0.11057117906510917,\n   0.10856604910051786,\n   0.10912125185935477,\n   0.10873337730314903,\n   0.10964139489606312],\n  'confusion_matrix': [array([[134,   5,   9, ...,  29,   4,   3],\n          [ 97, 168,  34, ..., 293,  17,   4],\n          [  1,   5, 334, ...,  51,   1,   1],\n          ...,\n          [  2,   0,  16, ..., 369,   0,   0],\n          [  0,   1,   1, ...,   2,   2,   9],\n          [  0,   0,   0, ...,   2,   0,  10]]),\n   array([[165,   6,   5, ...,  25,   1,   4],\n          [129, 141,  37, ..., 321,   3,   5],\n          [  3,   7, 334, ...,  54,   0,   0],\n          ...,\n          [  2,   0,  10, ..., 362,   0,   1],\n          [  0,   0,   0, ...,   3,   1,   7],\n          [  0,   0,   0, ...,   1,   1,  10]]),\n   array([[151,  10,   4, ...,  28,   9,   5],\n          [111, 148,  40, ..., 295,   9,   7],\n          [  1,   5, 354, ...,  55,   0,   1],\n          ...,\n          [  2,   1,   8, ..., 407,   0,   0],\n          [  0,   0,   0, ...,   0,   0,   4],\n          [  0,   0,   0, ...,   2,   0,  11]]),\n   array([[132,   9,   3, ...,  31,   9,   0],\n          [117, 128,  41, ..., 284,  10,   0],\n          [  4,   4, 370, ...,  51,   0,   2],\n          ...,\n          [  1,   1,  11, ..., 365,   0,   0],\n          [  0,   0,   0, ...,   3,   3,   3],\n          [  1,   0,   0, ...,   5,   1,  10]]),\n   array([[134,   3,   8, ...,  38,   8,   1],\n          [140, 149,  36, ..., 371,   7,   4],\n          [  1,   8, 347, ...,  73,   0,   0],\n          ...,\n          [  5,   0,  22, ..., 386,   0,   0],\n          [  0,   0,   1, ...,   1,   0,   5],\n          [  0,   0,   0, ...,   3,   1,   8]])]},\n 'k_neighbors': {'weighted_accuracy': [0.3079658430947928,\n   0.31019293237523377,\n   0.3095938280567484,\n   0.31060279804604346,\n   0.31047975292539776],\n  'weighted_f1_score': [0.295922838272863,\n   0.2962416629367038,\n   0.2971620917846922,\n   0.2974668770911732,\n   0.2984003675594695],\n  'confusion_matrix': [array([[ 602,  555,    9, ...,    1,    0,    0],\n          [ 861, 8642,  106, ...,    7,    0,    0],\n          [  24,  145,  442, ...,    5,    0,    0],\n          ...,\n          [  14,   94,   28, ...,  226,    0,    0],\n          [   0,    2,    3, ...,    0,    9,    8],\n          [   1,    3,    0, ...,    0,    8,   13]]),\n   array([[ 608,  657,   15, ...,    2,    0,    0],\n          [ 817, 8709,   94, ...,   12,    0,    0],\n          [  16,  179,  463, ...,    3,    0,    0],\n          ...,\n          [  18,   90,   23, ...,  268,    0,    0],\n          [   0,    4,    2, ...,    0,    9,    6],\n          [   0,    7,    0, ...,    0,    5,   11]]),\n   array([[ 588,  647,   10, ...,    1,    0,    0],\n          [ 857, 8575,   96, ...,    8,    0,    0],\n          [  29,  153,  451, ...,    2,    0,    0],\n          ...,\n          [  18,   98,   24, ...,  295,    0,    0],\n          [   0,    1,    0, ...,    0,    5,    6],\n          [   0,    0,    0, ...,    0,    9,   10]]),\n   array([[ 615,  621,    9, ...,    0,    0,    0],\n          [ 843, 8735,   86, ...,   10,    0,    0],\n          [  24,  133,  502, ...,    3,    0,    0],\n          ...,\n          [  18,  112,   19, ...,  236,    0,    0],\n          [   1,    1,    0, ...,    0,    4,    9],\n          [   0,    3,    0, ...,    0,   12,    6]]),\n   array([[ 585,  583,   17, ...,    3,    0,    0],\n          [ 887, 8652,   87, ...,   10,    0,    0],\n          [  18,  161,  487, ...,    7,    0,    0],\n          ...,\n          [  16,   94,   32, ...,  295,    0,    0],\n          [   0,    2,    0, ...,    0,    7,    5],\n          [   1,    4,    1, ...,    0,   10,    7]])]},\n 'naive_bayes': {'weighted_accuracy': [0.05341322964858746,\n   0.053068707549955706,\n   0.05308166504657258,\n   0.05338927784818693,\n   0.05254026651573132],\n  'weighted_f1_score': [0.024790617489485255,\n   0.0252795574599506,\n   0.025338205695705843,\n   0.02548659472487273,\n   0.024954139458053557],\n  'confusion_matrix': [array([[  0,   1,  18, ...,  35,   5,   1],\n          [  0,  14, 139, ..., 239,  43,  29],\n          [  0,   1, 225, ...,  76,  10,   4],\n          ...,\n          [  0,   0,  12, ..., 269,  15,   6],\n          [  0,   0,   0, ...,   1,   5,  20],\n          [  0,   0,   1, ...,   0,   3,  17]]),\n   array([[  0,   1,  19, ...,  38,   7,   1],\n          [  0,  13, 126, ..., 268,  43,  17],\n          [  0,   0, 235, ...,  81,  12,   1],\n          ...,\n          [  0,   0,  12, ..., 248,  17,   4],\n          [  0,   0,   0, ...,   0,   8,   9],\n          [  0,   0,   0, ...,   0,   9,  12]]),\n   array([[  0,   0,  13, ...,  28,   8,   2],\n          [  0,  16, 119, ..., 221,  73,  23],\n          [  0,   0, 229, ...,  69,  16,   3],\n          ...,\n          [  0,   1,  14, ..., 258,  34,   5],\n          [  0,   0,   0, ...,   0,   4,   7],\n          [  0,   0,   0, ...,   0,   5,  17]]),\n   array([[  0,   3,  16, ...,  41,   6,   0],\n          [  0,  19, 116, ..., 252,  42,  20],\n          [  0,   1, 247, ...,  85,  10,   5],\n          ...,\n          [  0,   1,  12, ..., 263,  20,   5],\n          [  0,   0,   0, ...,   0,   9,   7],\n          [  0,   0,   0, ...,   0,   9,  12]]),\n   array([[  0,   2,   7, ...,  31,   4,   2],\n          [  0,  24, 109, ..., 261,  46,  28],\n          [  0,   1, 238, ...,  85,  13,   1],\n          ...,\n          [  0,   2,  25, ..., 263,  24,   9],\n          [  0,   0,   0, ...,   2,   2,  11],\n          [  0,   0,   0, ...,   0,   2,  14]])]},\n 'logistic_regression': {'weighted_accuracy': [0.22905797814745546,\n   0.22483758243921645,\n   0.2266245032053254,\n   0.2289008379372716,\n   0.22674754832597113],\n  'weighted_f1_score': [0.14402399632130702,\n   0.1405803441190239,\n   0.1414514388395412,\n   0.14378835748755162,\n   0.14125786492600903],\n  'confusion_matrix': [array([[    0,  1654,     6, ...,     1,     0,     0],\n          [    5, 12759,    45, ...,    25,     0,     1],\n          [    0,   340,   285, ...,     8,     1,     0],\n          ...,\n          [    0,   211,    17, ...,   190,     0,     0],\n          [    0,     7,     0, ...,     0,     5,    14],\n          [    0,     4,     0, ...,     0,     5,    16]]),\n   array([[    0,  1787,     6, ...,     4,     0,     1],\n          [    1, 12608,    32, ...,    22,     0,     3],\n          [    0,   365,   292, ...,    12,     0,     0],\n          ...,\n          [    0,   193,    16, ...,   201,     0,     1],\n          [    0,    11,     0, ...,     0,     2,    11],\n          [    0,     4,     0, ...,     0,     7,    10]]),\n   array([[    2,  1706,     5, ...,     2,     0,     0],\n          [    0, 12640,    22, ...,    23,     0,     2],\n          [    0,   346,   270, ...,     9,     0,     0],\n          ...,\n          [    3,   240,    18, ...,   182,     1,     0],\n          [    0,     5,     0, ...,     0,     3,     8],\n          [    0,     3,     0, ...,     0,     9,    12]]),\n   array([[    0,  1712,     3, ...,     1,     0,     0],\n          [    3, 12765,    27, ...,    20,     1,     1],\n          [    0,   337,   298, ...,    12,     0,     0],\n          ...,\n          [    0,   253,    10, ...,   189,     1,     0],\n          [    0,     7,     0, ...,     0,     8,     5],\n          [    0,     3,     0, ...,     0,     8,    14]]),\n   array([[    0,  1667,     5, ...,     1,     1,     0],\n          [    0, 12722,    38, ...,    18,     0,     1],\n          [    1,   361,   291, ...,    15,     0,     0],\n          ...,\n          [    0,   254,    23, ...,   198,     1,     1],\n          [    0,     5,     0, ...,     1,     6,     8],\n          [    0,     4,     0, ...,     0,     3,    14]])]}}"
     },
     "execution_count": 3,
     "metadata": {},
     "output_type": "execute_result"
    }
   ],
   "source": [
    "results"
   ],
   "metadata": {
    "collapsed": false,
    "ExecuteTime": {
     "end_time": "2024-01-22T15:20:21.143168Z",
     "start_time": "2024-01-22T15:20:21.131256Z"
    }
   },
   "id": "75276e371b373337"
  },
  {
   "cell_type": "code",
   "execution_count": 4,
   "outputs": [
    {
     "name": "stdout",
     "output_type": "stream",
     "text": [
      "Quadrant Discriminant Analysis\n",
      "Mean weighted_accuracy: 11.1\n",
      "Std weighted_accuracy: 0.0\n",
      "Mean weighted_f1_score: 10.9\n",
      "Std weighted_f1_score: 0.1\n",
      "k_neighbors\n",
      "Mean weighted_accuracy: 31.0\n",
      "Std weighted_accuracy: 0.1\n",
      "Mean weighted_f1_score: 29.7\n",
      "Std weighted_f1_score: 0.1\n",
      "naive_bayes\n",
      "Mean weighted_accuracy: 5.3\n",
      "Std weighted_accuracy: 0.0\n",
      "Mean weighted_f1_score: 2.5\n",
      "Std weighted_f1_score: 0.0\n",
      "logistic_regression\n",
      "Mean weighted_accuracy: 22.7\n",
      "Std weighted_accuracy: 0.2\n",
      "Mean weighted_f1_score: 14.2\n",
      "Std weighted_f1_score: 0.1\n"
     ]
    }
   ],
   "source": [
    "metrics = ['weighted_accuracy', 'weighted_f1_score']\n",
    "for model_name, scores in results.items():\n",
    "    print(model_name)\n",
    "    for metric in metrics:\n",
    "        print(f\"Mean {metric}: {mean(scores[metric], axis=0)*100:.1f}\")\n",
    "        print(f\"Std {metric}: {std(scores[metric])*100:.1f}\")"
   ],
   "metadata": {
    "collapsed": false,
    "ExecuteTime": {
     "end_time": "2024-01-22T15:20:21.143678Z",
     "start_time": "2024-01-22T15:20:21.136545Z"
    }
   },
   "id": "4ded4967e9054ee6"
  },
  {
   "cell_type": "code",
   "execution_count": 16,
   "outputs": [
    {
     "name": "stdout",
     "output_type": "stream",
     "text": [
      "[[  23  135    0 ...    0    0    0]\n",
      " [  13 1267    2 ...    0    0    0]\n",
      " [   1   77   22 ...    0    0    0]\n",
      " ...\n",
      " [   0   62    0 ...   15    0    0]\n",
      " [   0    2    0 ...    0    0    0]\n",
      " [   0    2    0 ...    0    1    0]]\n"
     ]
    },
    {
     "ename": "AttributeError",
     "evalue": "'NoneType' object has no attribute 'shape'",
     "output_type": "error",
     "traceback": [
      "\u001B[0;31m---------------------------------------------------------------------------\u001B[0m",
      "\u001B[0;31mAttributeError\u001B[0m                            Traceback (most recent call last)",
      "Cell \u001B[0;32mIn[16], line 3\u001B[0m\n\u001B[1;32m      1\u001B[0m \u001B[38;5;28;01mfrom\u001B[39;00m \u001B[38;5;21;01msklearn\u001B[39;00m\u001B[38;5;21;01m.\u001B[39;00m\u001B[38;5;21;01mmetrics\u001B[39;00m \u001B[38;5;28;01mimport\u001B[39;00m ConfusionMatrixDisplay\n\u001B[1;32m      2\u001B[0m disp \u001B[38;5;241m=\u001B[39m ConfusionMatrixDisplay(\u001B[38;5;28mprint\u001B[39m(results[\u001B[38;5;124m\"\u001B[39m\u001B[38;5;124mfour_gram\u001B[39m\u001B[38;5;124m\"\u001B[39m][\u001B[38;5;124m\"\u001B[39m\u001B[38;5;124mconfunsion_matrix\u001B[39m\u001B[38;5;124m\"\u001B[39m][\u001B[38;5;241m0\u001B[39m]))\n\u001B[0;32m----> 3\u001B[0m \u001B[43mdisp\u001B[49m\u001B[38;5;241;43m.\u001B[39;49m\u001B[43mplot\u001B[49m\u001B[43m(\u001B[49m\u001B[43m)\u001B[49m\n\u001B[1;32m      4\u001B[0m disp\u001B[38;5;241m.\u001B[39mshow()\n",
      "File \u001B[0;32m~/anaconda3/envs/emoji-prediction/lib/python3.10/site-packages/sklearn/metrics/_plot/confusion_matrix.py:141\u001B[0m, in \u001B[0;36mConfusionMatrixDisplay.plot\u001B[0;34m(self, include_values, cmap, xticks_rotation, values_format, ax, colorbar, im_kw, text_kw)\u001B[0m\n\u001B[1;32m    138\u001B[0m     fig \u001B[38;5;241m=\u001B[39m ax\u001B[38;5;241m.\u001B[39mfigure\n\u001B[1;32m    140\u001B[0m cm \u001B[38;5;241m=\u001B[39m \u001B[38;5;28mself\u001B[39m\u001B[38;5;241m.\u001B[39mconfusion_matrix\n\u001B[0;32m--> 141\u001B[0m n_classes \u001B[38;5;241m=\u001B[39m \u001B[43mcm\u001B[49m\u001B[38;5;241;43m.\u001B[39;49m\u001B[43mshape\u001B[49m[\u001B[38;5;241m0\u001B[39m]\n\u001B[1;32m    143\u001B[0m default_im_kw \u001B[38;5;241m=\u001B[39m \u001B[38;5;28mdict\u001B[39m(interpolation\u001B[38;5;241m=\u001B[39m\u001B[38;5;124m\"\u001B[39m\u001B[38;5;124mnearest\u001B[39m\u001B[38;5;124m\"\u001B[39m, cmap\u001B[38;5;241m=\u001B[39mcmap)\n\u001B[1;32m    144\u001B[0m im_kw \u001B[38;5;241m=\u001B[39m im_kw \u001B[38;5;129;01mor\u001B[39;00m {}\n",
      "\u001B[0;31mAttributeError\u001B[0m: 'NoneType' object has no attribute 'shape'"
     ]
    },
    {
     "data": {
      "text/plain": "<Figure size 640x480 with 1 Axes>",
      "image/png": "[encoded data removed]"
     },
     "metadata": {},
     "output_type": "display_data"
    }
   ],
   "source": [
    "from sklearn.metrics import ConfusionMatrixDisplay\n",
    "disp = ConfusionMatrixDisplay(print(results[\"four_gram\"][\"confunsion_matrix\"][0]))\n",
    "disp.plot()\n",
    "disp.show()"
   ],
   "metadata": {
    "collapsed": false,
    "ExecuteTime": {
     "end_time": "2023-12-18T14:49:27.909652Z",
     "start_time": "2023-12-18T14:49:27.844063Z"
    }
   },
   "id": "e5c0e0a94bc8ec37"
  },
  {
   "cell_type": "code",
   "execution_count": null,
   "outputs": [],
   "source": [],
   "metadata": {
    "collapsed": false
   },
   "id": "dc9efb6a0ea8796d"
  }
 ],
 "metadata": {
  "kernelspec": {
   "display_name": "Python 3",
   "language": "python",
   "name": "python3"
  },
  "language_info": {
   "codemirror_mode": {
    "name": "ipython",
    "version": 2
   },
   "file_extension": ".py",
   "mimetype": "text/x-python",
   "name": "python",
   "nbconvert_exporter": "python",
   "pygments_lexer": "ipython2",
   "version": "2.7.6"
  }
 },
 "nbformat": 4,
 "nbformat_minor": 5
}
