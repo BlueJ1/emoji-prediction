{
 "cells": [
  {
   "cell_type": "code",
   "execution_count": 1,
   "id": "initial_id",
   "metadata": {
    "collapsed": true,
    "ExecuteTime": {
     "end_time": "2023-12-14T23:25:28.252538Z",
     "start_time": "2023-12-14T23:25:28.246291Z"
    }
   },
   "outputs": [],
   "source": [
    "from pickle import load"
   ]
  },
  {
   "cell_type": "code",
   "execution_count": 2,
   "outputs": [],
   "source": [
    "results = load(open('results.pkl', 'rb'))"
   ],
   "metadata": {
    "collapsed": false,
    "ExecuteTime": {
     "end_time": "2023-12-14T23:25:41.027838Z",
     "start_time": "2023-12-14T23:25:40.929361Z"
    }
   },
   "id": "7fd9a12d224d3b15"
  },
  {
   "cell_type": "code",
   "execution_count": 3,
   "outputs": [
    {
     "name": "stdout",
     "output_type": "stream",
     "text": [
      "Loaded: 3\n"
     ]
    }
   ],
   "source": [
    "print('Loaded: %d' % len(results))"
   ],
   "metadata": {
    "collapsed": false,
    "ExecuteTime": {
     "end_time": "2023-12-14T23:26:02.637776Z",
     "start_time": "2023-12-14T23:26:02.633432Z"
    }
   },
   "id": "93cfd31de6efdf25"
  },
  {
   "cell_type": "code",
   "execution_count": 8,
   "outputs": [
    {
     "name": "stdout",
     "output_type": "stream",
     "text": [
      "{'baseline': [0.17662993289416978, 0.17662993289416978, 0.17662993289416978, 0.17656836791233146, 0.17656836791233146], 'one_gram': [0.23764082989595517, 0.23493197069506863, 0.2332697161854337, 0.2341931909130087, 0.23191528658499047], 'four_gram': [0.2922489687865542, 0.2977898171520039, 0.2944037431508958, 0.2868928153666195, 0.2847380410022779]}\n"
     ]
    }
   ],
   "source": [
    "print(results)"
   ],
   "metadata": {
    "collapsed": false,
    "ExecuteTime": {
     "end_time": "2023-12-14T23:27:06.640510Z",
     "start_time": "2023-12-14T23:27:06.635273Z"
    }
   },
   "id": "d3610ea28d2120bc"
  },
  {
   "cell_type": "code",
   "execution_count": 4,
   "outputs": [],
   "source": [
    "from numpy import mean\n",
    "from numpy import std"
   ],
   "metadata": {
    "collapsed": false,
    "ExecuteTime": {
     "end_time": "2023-12-14T23:26:03.603875Z",
     "start_time": "2023-12-14T23:26:03.600050Z"
    }
   },
   "id": "340a9dc0f9181057"
  },
  {
   "cell_type": "code",
   "execution_count": 12,
   "outputs": [
    {
     "name": "stdout",
     "output_type": "stream",
     "text": [
      "baseline\n",
      "Mean Accuracy: 0.177%\n",
      "Standard Deviation: 0.000\n",
      "one_gram\n",
      "Mean Accuracy: 0.234%\n",
      "Standard Deviation: 0.002\n",
      "four_gram\n",
      "Mean Accuracy: 0.291%\n",
      "Standard Deviation: 0.005\n"
     ]
    }
   ],
   "source": [
    "for model_name, scores in results.items():\n",
    "    print(model_name)\n",
    "    print('Mean Accuracy: %.3f%%' % (mean(scores)))\n",
    "    print('Standard Deviation: %.3f' % (std(scores)))"
   ],
   "metadata": {
    "collapsed": false,
    "ExecuteTime": {
     "end_time": "2023-12-14T23:28:54.519393Z",
     "start_time": "2023-12-14T23:28:54.515017Z"
    }
   },
   "id": "4ded4967e9054ee6"
  },
  {
   "cell_type": "code",
   "execution_count": null,
   "outputs": [],
   "source": [],
   "metadata": {
    "collapsed": false
   },
   "id": "e5c0e0a94bc8ec37"
  }
 ],
 "metadata": {
  "kernelspec": {
   "display_name": "Python 3",
   "language": "python",
   "name": "python3"
  },
  "language_info": {
   "codemirror_mode": {
    "name": "ipython",
    "version": 2
   },
   "file_extension": ".py",
   "mimetype": "text/x-python",
   "name": "python",
   "nbconvert_exporter": "python",
   "pygments_lexer": "ipython2",
   "version": "2.7.6"
  }
 },
 "nbformat": 4,
 "nbformat_minor": 5
}
