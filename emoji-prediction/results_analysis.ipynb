{
 "cells": [
  {
   "cell_type": "code",
   "execution_count": 2,
   "id": "initial_id",
   "metadata": {
    "collapsed": true,
    "ExecuteTime": {
     "end_time": "2023-12-15T13:03:24.519148Z",
     "start_time": "2023-12-15T13:03:24.203341Z"
    }
   },
   "outputs": [],
   "source": [
    "from pickle import load\n",
    "from numpy import mean\n",
    "from numpy import std"
   ]
  },
  {
   "cell_type": "code",
   "execution_count": 3,
   "outputs": [
    {
     "name": "stdout",
     "output_type": "stream",
     "text": [
      "3 models evaluated\n"
     ]
    }
   ],
   "source": [
    "results = load(open('results.pkl', 'rb'))\n",
    "print('%d models evaluated' % len(results))\n",
    "rearranged_results = {}\n",
    "for model_name, scores in results.items():\n",
    "    rearranged_results[model_name] = {}\n",
    "    for metric_dict in scores:\n",
    "        for metric, value in metric_dict.items():\n",
    "            if metric not in rearranged_results[model_name]:\n",
    "                rearranged_results[model_name][metric] = []\n",
    "            rearranged_results[model_name][metric].append(value)\n",
    "results = rearranged_results"
   ],
   "metadata": {
    "collapsed": false,
    "ExecuteTime": {
     "end_time": "2023-12-15T13:03:24.525502Z",
     "start_time": "2023-12-15T13:03:24.511846Z"
    }
   },
   "id": "7fd9a12d224d3b15"
  },
  {
   "cell_type": "code",
   "execution_count": 4,
   "outputs": [
    {
     "data": {
      "text/plain": "{'baseline': {'average_accuracy': [0.17702467934106283,\n   0.1770257699250251,\n   0.1770196092926978,\n   0.1770196092926978,\n   0.1770196092926978],\n  'weighted_f1_score': [0.05324907395034404,\n   0.05324968070927474,\n   0.05324625320893333,\n   0.05324625320893333,\n   0.05324625320893333]},\n 'one_gram': {'average_accuracy': [0.25947191385024826,\n   0.26094590348753394,\n   0.26035448278411294,\n   0.2602805551961853,\n   0.2588020034376328],\n  'weighted_f1_score': [0.21150393616717722,\n   0.21392094201550657,\n   0.21312203954023484,\n   0.2122250997720593,\n   0.2114992873692819]},\n 'four_gram': {'average_accuracy': [0.4031184928721923,\n   0.40474738327141896,\n   0.4032749921451938,\n   0.40262196511849974,\n   0.40254187689824483],\n  'weighted_f1_score': [0.3950598627929097,\n   0.3961727411103994,\n   0.3950760168776577,\n   0.3939448833614575,\n   0.3949353910124403]}}"
     },
     "execution_count": 4,
     "metadata": {},
     "output_type": "execute_result"
    }
   ],
   "source": [
    "results"
   ],
   "metadata": {
    "collapsed": false,
    "ExecuteTime": {
     "end_time": "2023-12-15T13:03:24.558300Z",
     "start_time": "2023-12-15T13:03:24.524334Z"
    }
   },
   "id": "75276e371b373337"
  },
  {
   "cell_type": "code",
   "execution_count": 9,
   "outputs": [
    {
     "name": "stdout",
     "output_type": "stream",
     "text": [
      "baseline\n",
      "Mean average_accuracy: 17.7\n",
      "Std average_accuracy: 0.0\n",
      "Mean weighted_f1_score: 5.3\n",
      "Std weighted_f1_score: 0.0\n",
      "one_gram\n",
      "Mean average_accuracy: 26.0\n",
      "Std average_accuracy: 0.1\n",
      "Mean weighted_f1_score: 21.2\n",
      "Std weighted_f1_score: 0.1\n",
      "four_gram\n",
      "Mean average_accuracy: 40.3\n",
      "Std average_accuracy: 0.1\n",
      "Mean weighted_f1_score: 39.5\n",
      "Std weighted_f1_score: 0.1\n"
     ]
    }
   ],
   "source": [
    "for model_name, scores in results.items():\n",
    "    print(model_name)\n",
    "    for metric, value in scores.items():\n",
    "        print(f\"Mean {metric}: {mean(value)*100:.1f}\")\n",
    "        print(f\"Std {metric}: {std(value)*100:.1f}\")"
   ],
   "metadata": {
    "collapsed": false,
    "ExecuteTime": {
     "end_time": "2023-12-15T13:04:12.318574Z",
     "start_time": "2023-12-15T13:04:12.315264Z"
    }
   },
   "id": "4ded4967e9054ee6"
  },
  {
   "cell_type": "code",
   "execution_count": null,
   "outputs": [],
   "source": [],
   "metadata": {
    "collapsed": false
   },
   "id": "e5c0e0a94bc8ec37"
  }
 ],
 "metadata": {
  "kernelspec": {
   "display_name": "Python 3",
   "language": "python",
   "name": "python3"
  },
  "language_info": {
   "codemirror_mode": {
    "name": "ipython",
    "version": 2
   },
   "file_extension": ".py",
   "mimetype": "text/x-python",
   "name": "python",
   "nbconvert_exporter": "python",
   "pygments_lexer": "ipython2",
   "version": "2.7.6"
  }
 },
 "nbformat": 4,
 "nbformat_minor": 5
}
