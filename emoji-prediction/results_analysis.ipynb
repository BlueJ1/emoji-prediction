{
 "cells": [
  {
   "cell_type": "code",
   "execution_count": 1,
   "id": "initial_id",
   "metadata": {
    "collapsed": true,
    "ExecuteTime": {
     "end_time": "2023-12-14T23:25:28.252538Z",
     "start_time": "2023-12-14T23:25:28.246291Z"
    }
   },
   "outputs": [],
   "source": [
    "from pickle import load\n",
    "from numpy import mean\n",
    "from numpy import std"
   ]
  },
  {
   "cell_type": "code",
   "execution_count": 30,
   "outputs": [
    {
     "name": "stdout",
     "output_type": "stream",
     "text": [
      "3 models evaluated\n"
     ]
    }
   ],
   "source": [
    "results = load(open('results.pkl', 'rb'))\n",
    "print('%d models evaluated' % len(results))\n",
    "rearranged_results = {}\n",
    "for model_name, scores in results.items():\n",
    "    rearranged_results[model_name] = {}\n",
    "    for metric_dict in scores:\n",
    "        for metric, value in metric_dict.items():\n",
    "            if metric not in rearranged_results[model_name]:\n",
    "                rearranged_results[model_name][metric] = []\n",
    "            rearranged_results[model_name][metric].append(value)\n",
    "results = rearranged_results"
   ],
   "metadata": {
    "collapsed": false,
    "ExecuteTime": {
     "end_time": "2023-12-15T00:15:40.248890Z",
     "start_time": "2023-12-15T00:15:40.242920Z"
    }
   },
   "id": "7fd9a12d224d3b15"
  },
  {
   "cell_type": "code",
   "execution_count": 31,
   "outputs": [
    {
     "data": {
      "text/plain": "{'baseline': {'average_accuracy': [0.17702467934106283,\n   0.1770257699250251,\n   0.1770196092926978,\n   0.1770196092926978,\n   0.1770196092926978],\n  'weighted_f1_score': [0.05324907395034404,\n   0.05324968070927474,\n   0.05324625320893333,\n   0.05324625320893333,\n   0.05324625320893333]},\n 'one_gram': {'average_accuracy': [0.25947191385024826,\n   0.26094590348753394,\n   0.26035448278411294,\n   0.2602805551961853,\n   0.2588020034376328],\n  'weighted_f1_score': [0.21150393616717722,\n   0.21392094201550657,\n   0.21312203954023484,\n   0.2122250997720593,\n   0.2114992873692819]},\n 'four_gram': {'average_accuracy': [0.4031184928721923,\n   0.40474738327141896,\n   0.4032749921451938,\n   0.40262196511849974,\n   0.40254187689824483],\n  'weighted_f1_score': [0.3950598627929097,\n   0.3961727411103994,\n   0.3950760168776577,\n   0.3939448833614575,\n   0.3949353910124403]}}"
     },
     "execution_count": 31,
     "metadata": {},
     "output_type": "execute_result"
    }
   ],
   "source": [
    "results"
   ],
   "metadata": {
    "collapsed": false,
    "ExecuteTime": {
     "end_time": "2023-12-15T00:15:42.045907Z",
     "start_time": "2023-12-15T00:15:42.030840Z"
    }
   },
   "id": "75276e371b373337"
  },
  {
   "cell_type": "code",
   "execution_count": 32,
   "outputs": [
    {
     "name": "stdout",
     "output_type": "stream",
     "text": [
      "baseline\n",
      "Mean average_accuracy: 0.17702185542883625\n",
      "Std average_accuracy: 2.7724769911887585e-06\n",
      "Mean weighted_f1_score: 0.05324750285728376\n",
      "Std weighted_f1_score: 1.5424808392888136e-06\n",
      "one_gram\n",
      "Mean average_accuracy: 0.25997097175114264\n",
      "Std average_accuracy: 0.0007495278805905062\n",
      "Mean weighted_f1_score: 0.21245426097285197\n",
      "Std weighted_f1_score: 0.0009449537736506922\n",
      "four_gram\n",
      "Mean average_accuracy: 0.40326094206110996\n",
      "Std average_accuracy: 0.0007943982489437778\n",
      "Mean weighted_f1_score: 0.39503777903097287\n",
      "Std weighted_f1_score: 0.0007063983292705417\n"
     ]
    }
   ],
   "source": [
    "for model_name, scores in results.items():\n",
    "    print(model_name)\n",
    "    for metric, value in scores.items():\n",
    "        print(f\"Mean {metric}: {mean(value)}\")\n",
    "        print(f\"Std {metric}: {std(value)}\")"
   ],
   "metadata": {
    "collapsed": false,
    "ExecuteTime": {
     "end_time": "2023-12-15T00:15:45.082767Z",
     "start_time": "2023-12-15T00:15:45.079535Z"
    }
   },
   "id": "4ded4967e9054ee6"
  },
  {
   "cell_type": "code",
   "execution_count": null,
   "outputs": [],
   "source": [],
   "metadata": {
    "collapsed": false
   },
   "id": "e5c0e0a94bc8ec37"
  }
 ],
 "metadata": {
  "kernelspec": {
   "display_name": "Python 3",
   "language": "python",
   "name": "python3"
  },
  "language_info": {
   "codemirror_mode": {
    "name": "ipython",
    "version": 2
   },
   "file_extension": ".py",
   "mimetype": "text/x-python",
   "name": "python",
   "nbconvert_exporter": "python",
   "pygments_lexer": "ipython2",
   "version": "2.7.6"
  }
 },
 "nbformat": 4,
 "nbformat_minor": 5
}
